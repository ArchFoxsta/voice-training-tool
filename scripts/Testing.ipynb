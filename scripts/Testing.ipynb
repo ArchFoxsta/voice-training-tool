{
 "cells": [
  {
   "cell_type": "code",
   "execution_count": 3,
   "id": "a4fa4d70-ec0c-4c6d-949e-82c72043ec87",
   "metadata": {},
   "outputs": [
    {
     "name": "stdout",
     "output_type": "stream",
     "text": [
      "Feedback is live. Press Ctrl+C to stop.\n",
      "\n",
      "Stopped.\n"
     ]
    }
   ],
   "source": [
    "import sounddevice as sd\n",
    "\n",
    "samplerate = 44100\n",
    "blocksize = 1024\n",
    "\n",
    "def audio_callback(indata, outdata, frames, time, status):\n",
    "    if status:\n",
    "        print(status)\n",
    "    outdata[:] = indata  # Direct passthrough: mic → speakers\n",
    "\n",
    "with sd.Stream(channels=1, samplerate=samplerate,\n",
    "               blocksize=blocksize, callback=audio_callback):\n",
    "    print(\"Feedback is live. Press Ctrl+C to stop.\")\n",
    "    try:\n",
    "        while True:\n",
    "            sd.sleep(200)\n",
    "    except KeyboardInterrupt:\n",
    "        print(\"\\nStopped.\")"
   ]
  },
  {
   "cell_type": "code",
   "execution_count": 5,
   "id": "fb4aa295-ac14-4266-b680-a6a799fe79ac",
   "metadata": {},
   "outputs": [
    {
     "name": "stderr",
     "output_type": "stream",
     "text": [
      "usage: ipykernel_launcher.py [-h] [-l] [-b DURATION] [-c COLUMNS] [-d DEVICE] [-g GAIN] [-r LOW HIGH]\n",
      "ipykernel_launcher.py: error: unrecognized arguments: -f C:\\Users\\codig\\AppData\\Roaming\\jupyter\\runtime\\kernel-7e5354e6-ae32-4acf-a460-c74259253f6a.json\n"
     ]
    },
    {
     "ename": "SystemExit",
     "evalue": "2",
     "output_type": "error",
     "traceback": [
      "An exception has occurred, use %tb to see the full traceback.\n",
      "\u001b[1;31mSystemExit\u001b[0m\u001b[1;31m:\u001b[0m 2\n"
     ]
    },
    {
     "name": "stderr",
     "output_type": "stream",
     "text": [
      "C:\\Users\\codig\\AppData\\Local\\Packages\\PythonSoftwareFoundation.Python.3.12_qbz5n2kfra8p0\\LocalCache\\local-packages\\Python312\\site-packages\\IPython\\core\\interactiveshell.py:3587: UserWarning: To exit: use 'exit', 'quit', or Ctrl-D.\n",
      "  warn(\"To exit: use 'exit', 'quit', or Ctrl-D.\", stacklevel=1)\n"
     ]
    }
   ],
   "source": [
    "#!/usr/bin/env python3\n",
    "\"\"\"Show a text-mode spectrogram using live microphone data.\"\"\"\n",
    "import argparse\n",
    "import math\n",
    "import shutil\n",
    "\n",
    "import numpy as np\n",
    "import sounddevice as sd\n",
    "\n",
    "usage_line = ' press <enter> to quit, +<enter> or -<enter> to change scaling '\n",
    "\n",
    "\n",
    "def int_or_str(text):\n",
    "    \"\"\"Helper function for argument parsing.\"\"\"\n",
    "    try:\n",
    "        return int(text)\n",
    "    except ValueError:\n",
    "        return text\n",
    "\n",
    "\n",
    "try:\n",
    "    columns, _ = shutil.get_terminal_size()\n",
    "except AttributeError:\n",
    "    columns = 80\n",
    "\n",
    "parser = argparse.ArgumentParser(add_help=False)\n",
    "parser.add_argument(\n",
    "    '-l', '--list-devices', action='store_true',\n",
    "    help='show list of audio devices and exit')\n",
    "args, remaining = parser.parse_known_args()\n",
    "if args.list_devices:\n",
    "    print(sd.query_devices())\n",
    "    parser.exit(0)\n",
    "parser = argparse.ArgumentParser(\n",
    "    description=__doc__ + '\\n\\nSupported keys:' + usage_line,\n",
    "    formatter_class=argparse.RawDescriptionHelpFormatter,\n",
    "    parents=[parser])\n",
    "parser.add_argument(\n",
    "    '-b', '--block-duration', type=float, metavar='DURATION', default=50,\n",
    "    help='block size (default %(default)s milliseconds)')\n",
    "parser.add_argument(\n",
    "    '-c', '--columns', type=int, default=columns,\n",
    "    help='width of spectrogram')\n",
    "parser.add_argument(\n",
    "    '-d', '--device', type=int_or_str,\n",
    "    help='input device (numeric ID or substring)')\n",
    "parser.add_argument(\n",
    "    '-g', '--gain', type=float, default=10,\n",
    "    help='initial gain factor (default %(default)s)')\n",
    "parser.add_argument(\n",
    "    '-r', '--range', type=float, nargs=2,\n",
    "    metavar=('LOW', 'HIGH'), default=[100, 2000],\n",
    "    help='frequency range (default %(default)s Hz)')\n",
    "args = parser.parse_args(remaining)\n",
    "low, high = args.range\n",
    "if high <= low:\n",
    "    parser.error('HIGH must be greater than LOW')\n",
    "\n",
    "# Create a nice output gradient using ANSI escape sequences.\n",
    "# Stolen from https://gist.github.com/maurisvh/df919538bcef391bc89f\n",
    "colors = 30, 34, 35, 91, 93, 97\n",
    "chars = ' :%#\\t#%:'\n",
    "gradient = []\n",
    "for bg, fg in zip(colors, colors[1:]):\n",
    "    for char in chars:\n",
    "        if char == '\\t':\n",
    "            bg, fg = fg, bg\n",
    "        else:\n",
    "            gradient.append(f'\\x1b[{fg};{bg + 10}m{char}')\n",
    "\n",
    "try:\n",
    "    samplerate = sd.query_devices(args.device, 'input')['default_samplerate']\n",
    "\n",
    "    delta_f = (high - low) / (args.columns - 1)\n",
    "    fftsize = math.ceil(samplerate / delta_f)\n",
    "    low_bin = math.floor(low / delta_f)\n",
    "\n",
    "    def callback(indata, frames, time, status):\n",
    "        if status:\n",
    "            text = ' ' + str(status) + ' '\n",
    "            print('\\x1b[34;40m', text.center(args.columns, '#'),\n",
    "                  '\\x1b[0m', sep='')\n",
    "        if any(indata):\n",
    "            magnitude = np.abs(np.fft.rfft(indata[:, 0], n=fftsize))\n",
    "            magnitude *= args.gain / fftsize\n",
    "            line = (gradient[int(np.clip(x, 0, 1) * (len(gradient) - 1))]\n",
    "                    for x in magnitude[low_bin:low_bin + args.columns])\n",
    "            print(*line, sep='', end='\\x1b[0m\\n')\n",
    "        else:\n",
    "            print('no input')\n",
    "\n",
    "    with sd.InputStream(device=args.device, channels=1, callback=callback,\n",
    "                        blocksize=int(samplerate * args.block_duration / 1000),\n",
    "                        samplerate=samplerate):\n",
    "        while True:\n",
    "            response = input()\n",
    "            if response in ('', 'q', 'Q'):\n",
    "                break\n",
    "            for ch in response:\n",
    "                if ch == '+':\n",
    "                    args.gain *= 2\n",
    "                elif ch == '-':\n",
    "                    args.gain /= 2\n",
    "                else:\n",
    "                    print('\\x1b[31;40m', usage_line.center(args.columns, '#'),\n",
    "                          '\\x1b[0m', sep='')\n",
    "                    break\n",
    "except KeyboardInterrupt:\n",
    "    parser.exit('Interrupted by user')\n",
    "except Exception as e:\n",
    "    parser.exit(type(e).__name__ + ': ' + str(e))"
   ]
  },
  {
   "cell_type": "code",
   "execution_count": null,
   "id": "78458d1f-48dc-4d65-b4c3-12a392149766",
   "metadata": {},
   "outputs": [],
   "source": []
  }
 ],
 "metadata": {
  "kernelspec": {
   "display_name": "Python 3 (ipykernel)",
   "language": "python",
   "name": "python3"
  },
  "language_info": {
   "codemirror_mode": {
    "name": "ipython",
    "version": 3
   },
   "file_extension": ".py",
   "mimetype": "text/x-python",
   "name": "python",
   "nbconvert_exporter": "python",
   "pygments_lexer": "ipython3",
   "version": "3.12.10"
  }
 },
 "nbformat": 4,
 "nbformat_minor": 5
}
